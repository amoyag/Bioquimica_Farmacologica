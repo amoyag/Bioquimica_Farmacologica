{
  "nbformat": 4,
  "nbformat_minor": 0,
  "metadata": {
    "colab": {
      "provenance": [],
      "collapsed_sections": [
        "vnBtZrrHMAof",
        "HiMDn-MlMsLT",
        "PAPiiaPXNLbI",
        "zK6aigYPNfGK",
        "oik4qs3TOj00",
        "K49K1WyRbBKp",
        "Q53Z8bxIiXlI"
      ],
      "include_colab_link": true
    },
    "kernelspec": {
      "name": "python3",
      "display_name": "Python 3"
    },
    "language_info": {
      "name": "python"
    },
    "accelerator": "GPU"
  },
  "cells": [
    {
      "cell_type": "markdown",
      "metadata": {
        "id": "view-in-github",
        "colab_type": "text"
      },
      "source": [
        "<a href=\"https://colab.research.google.com/github/amoyag/Bioquimica_Farmacologica/blob/main/session1_gnina-workshop.ipynb\" target=\"_parent\"><img src=\"https://colab.research.google.com/assets/colab-badge.svg\" alt=\"Open In Colab\"/></a>"
      ]
    },
    {
      "cell_type": "markdown",
      "source": [
        "# Introducción a Jupyter"
      ],
      "metadata": {
        "id": "c-GKvfidKJZG"
      }
    },
    {
      "cell_type": "markdown",
      "source": [
        "**Jupyter Notebook.** Es un documento que integra texto, código y _output_ del código. Combina narración y visualización de los resultados.\n",
        "\n",
        "Ofrece **sistematización** y **reproducibilidad**.\n",
        "\n",
        "En esencia es un documento integrado en el que se puede ejecutar código, mostrar el resultado y añadir explicaciones, fórmulas, gráficas... De este modo el análisis que se presenta resulta más legible, transparente y reproducible. Además es fácil de compartir.\n"
      ],
      "metadata": {
        "id": "j_QjesVNKSNX"
      }
    },
    {
      "cell_type": "markdown",
      "source": [
        "Más información, documentación, instrucciones de instalación... en [jupyter.org](https://jupyter.org)"
      ],
      "metadata": {
        "id": "TasiQl7IKafG"
      }
    },
    {
      "cell_type": "markdown",
      "source": [
        "## Primer contacto con Jupyter"
      ],
      "metadata": {
        "id": "ntXTeVRwKriD"
      }
    },
    {
      "cell_type": "markdown",
      "source": [
        "Este es el primer notebook que tenemos. Lo hemos creado con el menú New en el server Python que hemos lanzado. Todo lo que compone este cuaderno son celdas. Échale un vistazo al menú superior, verás que parece un procesador de textos vitaminado."
      ],
      "metadata": {
        "id": "_FeCO4i2K9M0"
      }
    },
    {
      "cell_type": "markdown",
      "source": [
        "En el cuaderno, todo son celdas. Las celdas pueden ser de texto (Markdown) o de código (Python).\n",
        "La primera celda que te aparece es de código, puedes cambiarla a texto con el menú desplegable.\n",
        "\n",
        "El texto se escribe en un lenguaje de marcado de texto llamado Markdown, que tiene una forma particular de poner texto en **negrita**, _itálica_... Puedes aprender más sobre Markdown preguntándole a GPT-4."
      ],
      "metadata": {
        "id": "vhQtNAv7LGiH"
      }
    },
    {
      "cell_type": "markdown",
      "source": [
        "Vamos a jugar con el código. Escribe `print('Hello World!')` en la celda que tienes disponible y pulsa el botón **Run** o las teclas Ctrl + Enter."
      ],
      "metadata": {
        "id": "gRuY6XybLMpb"
      }
    },
    {
      "cell_type": "code",
      "source": [
        " print('Hello World!')"
      ],
      "metadata": {
        "id": "UkJ5m68PLOkF"
      },
      "execution_count": null,
      "outputs": []
    },
    {
      "cell_type": "markdown",
      "source": [
        "Con Python se pueden realizar operaciones aritméticas:"
      ],
      "metadata": {
        "id": "8OQIv5f_Ly7K"
      }
    },
    {
      "cell_type": "markdown",
      "source": [
        "comentario al código de abajo"
      ],
      "metadata": {
        "id": "LahneMgaodg3"
      }
    },
    {
      "cell_type": "code",
      "source": [
        "#este códigi es esencial. Preguintarle a Antonia, porque tenemos que ponerlo en el protocolo\n",
        "a = 12 #sdsdf\n",
        "b = 2\n",
        "print(\"a + b = \", a + b)\n",
        "print(\"a**b = \", a + b)\n",
        "print(\"a/b = \", a/b)"
      ],
      "metadata": {
        "id": "YA9cQWdDL01N"
      },
      "execution_count": null,
      "outputs": []
    },
    {
      "cell_type": "markdown",
      "source": [
        "Muchas operaciones matemáticas se realizan con el módulo `numpy`. La celda siguiente importa este módulo con el prefijo `np`y lo usa para calcular una función conocida"
      ],
      "metadata": {
        "id": "Fb9IDVELNRdg"
      }
    },
    {
      "cell_type": "code",
      "source": [
        "import numpy\n",
        "np.sin(2*np.pi)"
      ],
      "metadata": {
        "id": "FxRQ-yHdNX_b"
      },
      "execution_count": null,
      "outputs": []
    },
    {
      "cell_type": "code",
      "source": [
        "# prompt: 10 numeros aleatorios usando numpy\n",
        "\n",
        "import numpy as np\n",
        "\n",
        "random_numbers = n.random.rand(10)\n",
        "print(random_numbers)\n"
      ],
      "metadata": {
        "id": "QryO7Er-vO2_"
      },
      "execution_count": null,
      "outputs": []
    },
    {
      "cell_type": "code",
      "source": [
        "# prompt: COMPUTE THE COSINE OF 2TIMES PI\n",
        "\n",
        "import numpy as pp\n",
        "pp.cos(2*pp.pi) # calls numpy as pp\n"
      ],
      "metadata": {
        "id": "Q_-_RMWjpk6T"
      },
      "execution_count": null,
      "outputs": []
    },
    {
      "cell_type": "markdown",
      "source": [
        "El módulo (o _library_) `matplotlib.pyplot` permite hacer gráficas:"
      ],
      "metadata": {
        "id": "p6BFRpDzNcwX"
      }
    },
    {
      "cell_type": "code",
      "source": [
        "import matplotlib.pyplot as plt\n",
        "import numpy as np\n",
        "%matplotlib inline\n",
        "\n",
        "x = np.linspace(0,10)\n",
        "y = np.sin(x)\n",
        "z = np.cos(x)\n",
        "\n",
        "plt.plot(x,y,'b',x,z,'r')\n",
        "plt.xlabel('Radians');\n",
        "plt.ylabel('Value');\n",
        "plt.title('Plotting Demonstration')\n",
        "plt.legend(['Sin','Cos'])\n",
        "plt.grid(True)"
      ],
      "metadata": {
        "id": "jVUQV6l3Nl5X"
      },
      "execution_count": null,
      "outputs": []
    },
    {
      "cell_type": "code",
      "source": [
        "plt.plot(y,z)\n",
        "plt.axis('equal')"
      ],
      "metadata": {
        "id": "6jjoWabMNqFS"
      },
      "execution_count": null,
      "outputs": []
    },
    {
      "cell_type": "code",
      "source": [
        "plt.subplot(2,1,1)\n",
        "plt.plot(x,y)\n",
        "plt.title('Sin(x)')\n",
        "\n",
        "plt.subplot(2,1,2)\n",
        "plt.plot(x,z)\n",
        "plt.title('Cos(x)')"
      ],
      "metadata": {
        "id": "Cox-SgW7NtEY"
      },
      "execution_count": null,
      "outputs": []
    },
    {
      "cell_type": "markdown",
      "source": [
        "En este punto es interesante que consideres aprender un poco de Python, para ampliar tus conocimientos de bioquímica. Recuerda que [la bioquímica es bioquímica computacional.](https://journals.plos.org/plosbiology/article?id=10.1371/journal.pbio.2002050)"
      ],
      "metadata": {
        "id": "XLPHuAzpN0E6"
      }
    },
    {
      "cell_type": "markdown",
      "source": [
        "## Molecular docking"
      ],
      "metadata": {
        "id": "Zg3P085oA5FU"
      }
    },
    {
      "cell_type": "markdown",
      "source": [
        "Molecular docking is a computational technique used to predict how two molecules, such as a drug and a protein, interact with each other. The goal of docking is to find the best way for a small molecule (like a drug) to fit into the binding site of a larger molecule (like a protein receptor), similar to finding the right key for a lock.\n",
        "\n",
        "### Key Concepts in Molecular Docking:\n",
        "\n",
        "1. **Sampling**: This step involves exploring different ways the small molecule (ligand) can fit into the binding site of the protein (receptor). The conformational space is vast because both the ligand and sometimes parts of the receptor are flexible. Usually, the receptor is kept rigid to simplify calculations.\n",
        "\n",
        "2. **Scoring**: After generating possible ways the molecules can interact (poses), a scoring function evaluates how well each pose fits. Scoring functions estimate the binding affinity, which indicates how likely the ligand is to bind tightly to the receptor.\n",
        "\n",
        "3. **Purpose of Docking**: Docking is used in drug discovery to screen large libraries of compounds and predict which ones are most likely to bind effectively to a target protein, speeding up the search for potential new drugs.\n",
        "\n",
        "4. **Applications**: Beyond drug discovery, docking is used to study enzyme-substrate interactions, antibody-antigen binding, and other molecular interactions.\n",
        "\n",
        "Docking relies on computational models to explore and predict interactions, making it a crucial tool in modern biochemistry and pharmacology."
      ],
      "metadata": {
        "id": "cY-0Q33ZA87K"
      }
    },
    {
      "cell_type": "markdown",
      "source": [
        "## GNINA. Docking with AI\n",
        "\n",
        "GNINA uses deep learning techniques, specifically convolutional neural networks (CNNs), to enhance molecular docking performance.\n",
        "\n",
        "### Deep Learning Techniques in GNINA\n",
        "\n",
        "1. **Convolutional Neural Networks (CNNs)**:\n",
        "   - CNNs are a type of deep learning model originally developed for tasks like image recognition but have been adapted for molecular docking. In this context, CNNs are used to predict binding poses and binding affinities directly from the 3D structures of protein-ligand complexes.\n",
        "\n",
        "2. **Scoring Function Enhancement**:\n",
        "   - Traditional docking software relies on empirical, physics-based, or knowledge-based scoring functions to evaluate the potential poses of a ligand. In GNINA, CNNs are used as an additional scoring function to evaluate and rank these poses. The CNNs predict how closely a generated pose resembles the correct binding mode based on training data from known protein-ligand structures.\n",
        "\n",
        "3. **Training CNNs**:\n",
        "   - The CNN models are trained on large datasets of protein-ligand complexes, such as PDBbind, which includes structural information and experimental binding affinities. The CNNs learn to predict which ligand poses are most likely to be correct based on these datasets.\n",
        "   - Multiple CNN models were trained, each initialized with different random seeds to create variants that together form an ensemble, improving the robustness of the predictions.\n",
        "\n",
        "4. **Ensemble Learning**:\n",
        "   - GNINA uses an ensemble of CNNs, which means multiple CNN models work together to score the poses. This approach helps to average out the errors of individual models, leading to more accurate predictions.\n",
        "   - The CNN ensemble used in GNINA includes several models trained on different subsets of data and with slightly different architectures, allowing it to generalize better to unseen protein-ligand pairs.\n",
        "\n",
        "5. **Pose Prediction and Rescoring**:\n",
        "   - CNNs are integrated into the docking pipeline in different ways: they can be used to rescore poses generated by traditional scoring functions, refine poses during the docking process, or guide the Monte Carlo sampling process. The most common use in GNINA is rescoring: after initial poses are generated and ranked by a traditional scoring function, the CNNs re-evaluate these poses, providing a more nuanced ranking based on learned patterns from training data.\n",
        "\n",
        "6. **Performance Evaluation**:\n",
        "   - The CNNs were tested on tasks like redocking (docking a ligand back into its known binding site) and cross-docking (docking a ligand into a receptor different from the one it was co-crystallized with). The CNN ensemble consistently outperformed traditional scoring functions like AutoDock Vina, demonstrating higher accuracy in predicting correct binding poses.\n",
        "\n",
        "\n",
        "### How CNNs work\n",
        "\n",
        "CNNs process data step-by-step using a series of layers that act like filters. The **Convolutional Layers** scan the input data, such as a 3D image of a protein-ligand complex, using small filters to detect patterns like shapes or bonds. **Pooling Layers** then simplify the data by summarizing these patterns, making the process faster and focusing on the most important features. Finally, **Fully Connected Layers** combine all the extracted information to make the final prediction, such as determining how well a molecule fits into a binding site.\n",
        "\n",
        "CNNs learn by analyzing thousands of examples of protein-ligand pairs, adjusting themselves to minimize mistakes. Over time, they get better at predicting how molecules interact.\n",
        "\n",
        "Unlike traditional methods that use manually chosen features, CNNs automatically learn what features are important from the data, such as recognizing key binding interactions.\n",
        "\n",
        "In docking, CNNs score how well a ligand fits into a protein’s binding site by looking at 3D interactions. This helps identify the best poses and predict binding strength more accurately than older methods.\n",
        "\n",
        "In simple terms, CNNs are smart filters that learn to recognize important patterns in molecular structures, helping scientists predict how molecules like drugs bind to their targets.\n",
        "\n",
        "\n",
        "### Key Advantages of Using CNNs in Docking:\n",
        "\n",
        "CNNs offer significant advantages in molecular docking by capturing complex, non-linear interactions between ligands and proteins, unlike traditional scoring methods that assume simpler relationships. They automatically learn important features directly from raw data without needing manually selected descriptors, allowing them to adapt to a wide range of protein-ligand interactions. By using multiple CNN models together (an ensemble), GNINA improves its ability to generalize across different proteins and ligands, making it especially effective for virtual screening in drug discovery.\n",
        "\n",
        "These deep learning techniques significantly enhance the predictive accuracy of molecular docking, making GNINA a state-of-the-art tool in computational chemistry and drug design."
      ],
      "metadata": {
        "id": "u-iavPjsBePp"
      }
    },
    {
      "cell_type": "markdown",
      "source": [
        "## Docking with GNINA"
      ],
      "metadata": {
        "id": "w5UiE3FUIH-S"
      }
    },
    {
      "cell_type": "markdown",
      "source": [
        "No we are going to play a bit with GNINA. We will prepare the structures of a ligand and a protein and perform a docking simulation."
      ],
      "metadata": {
        "id": "26hMaZ6JNpbx"
      }
    },
    {
      "cell_type": "markdown",
      "metadata": {
        "id": "Qhgslkr9RQVD"
      },
      "source": [
        "### Getting Setup"
      ]
    },
    {
      "cell_type": "markdown",
      "source": [
        "Here we will prepare the system for GNINA."
      ],
      "metadata": {
        "id": "aVYqpUlbGDJd"
      }
    },
    {
      "cell_type": "markdown",
      "source": [
        "#### OpenBabel"
      ],
      "metadata": {
        "id": "g3eg3IZvy_-w"
      }
    },
    {
      "cell_type": "markdown",
      "source": [
        "OpenBabel is a software tool that helps scientists work with chemical data by converting different file formats and manipulating molecular structures. In docking simulations, OpenBabel is often used to prepare molecules by converting structures into the right format needed for docking software, cleaning up molecules by adding missing hydrogens, or generating 3D coordinates from simpler structures. It makes handling chemical data easier, especially when preparing proteins and ligands for docking studies in drug discovery."
      ],
      "metadata": {
        "id": "wqSu59vDGJTq"
      }
    },
    {
      "cell_type": "code",
      "metadata": {
        "id": "5xipLWWMiG8i",
        "collapsed": true
      },
      "source": [
        "!apt install openbabel"
      ],
      "execution_count": null,
      "outputs": []
    },
    {
      "cell_type": "code",
      "metadata": {
        "id": "WepFi9Iq3SpR",
        "collapsed": true
      },
      "source": [
        "!wget -c https://repo.continuum.io/miniconda/Miniconda3-latest-Linux-x86_64.sh\n",
        "!chmod +x Miniconda3-latest-Linux-x86_64.sh\n",
        "!bash ./Miniconda3-latest-Linux-x86_64.sh -b -f -p /usr/local"
      ],
      "execution_count": null,
      "outputs": []
    },
    {
      "cell_type": "code",
      "metadata": {
        "id": "G1_Jjh8ShtRn",
        "collapsed": true
      },
      "source": [
        "!conda install -q -y -c conda-forge openbabel"
      ],
      "execution_count": null,
      "outputs": []
    },
    {
      "cell_type": "code",
      "metadata": {
        "id": "SWSwzgSsiBg3"
      },
      "source": [
        "import sys\n",
        "sys.path.append('/usr/local/lib/python3.8/site-packages/')\n",
        "sys.path.append('/usr/local/lib/python3.12/site-packages/')"
      ],
      "execution_count": null,
      "outputs": []
    },
    {
      "cell_type": "markdown",
      "source": [
        "#### Py3Dmol"
      ],
      "metadata": {
        "id": "bbymWNAozYmS"
      }
    },
    {
      "cell_type": "markdown",
      "source": [
        "Py3Dmol is a visualization tool that allows scientists to view and interact with 3D molecular structures directly in their web browser or coding environments like Jupyter Notebook. It’s often used in docking simulations to visually inspect how a ligand fits into a protein’s binding site, helping researchers see the results of their docking simulations clearly. Py3Dmol makes it easy to rotate, zoom, and explore molecular structures, which is useful for analyzing docking results, checking if molecules are correctly positioned, and communicating findings effectively."
      ],
      "metadata": {
        "id": "KnMATY3fGyi4"
      }
    },
    {
      "cell_type": "code",
      "metadata": {
        "id": "61kJ7OKcKr9E",
        "collapsed": true
      },
      "source": [
        "!pip install py3Dmol"
      ],
      "execution_count": null,
      "outputs": []
    },
    {
      "cell_type": "markdown",
      "source": [
        "#### Smina and GNINA"
      ],
      "metadata": {
        "id": "yV1DUfq10KSC"
      }
    },
    {
      "cell_type": "markdown",
      "source": [
        "Smina is a molecular docking software that helps predict how small molecules, like drugs, bind to proteins. It is a modified version of another popular docking tool called AutoDock Vina, but with added features to improve docking accuracy and flexibility. Smina is often used in docking simulations to explore possible binding poses of ligands, scoring them based on how well they fit into the binding site. It allows researchers to customize docking parameters and scoring functions, making it a powerful tool for virtual screening and drug discovery projects.\n",
        "\n",
        "GNINA is built on top of Smina, integrating its docking capabilities with advanced deep learning techniques. Smina provides the core docking functions, like sampling ligand poses and generating possible binding modes, while GNINA adds convolutional neural networks (CNNs) to improve the scoring and ranking of these poses. This combination allows GNINA to utilize Smina’s robust docking framework while enhancing the accuracy and reliability of predictions with deep learning, making it especially powerful for virtual screening and drug discovery."
      ],
      "metadata": {
        "id": "mLKKZcLFIMZ9"
      }
    },
    {
      "cell_type": "code",
      "metadata": {
        "id": "ZcFPYBzaJDFQ",
        "collapsed": true
      },
      "source": [
        "!wget https://downloads.sourceforge.net/project/smina/smina.static"
      ],
      "execution_count": null,
      "outputs": []
    },
    {
      "cell_type": "code",
      "metadata": {
        "id": "zkFD5W8bJkfd"
      },
      "source": [
        "!wget https://github.com/gnina/gnina/releases/download/v1.0.1/gnina"
      ],
      "execution_count": null,
      "outputs": []
    },
    {
      "cell_type": "code",
      "metadata": {
        "id": "Fh6kIim8J_kS"
      },
      "source": [
        "!chmod +x gnina"
      ],
      "execution_count": null,
      "outputs": []
    },
    {
      "cell_type": "markdown",
      "source": [
        "Check that GNINA is installed."
      ],
      "metadata": {
        "id": "kYFILTnjIznI"
      }
    },
    {
      "cell_type": "code",
      "metadata": {
        "id": "0Bihh7ZKKBnC",
        "collapsed": true
      },
      "source": [
        "!./gnina"
      ],
      "execution_count": null,
      "outputs": []
    },
    {
      "cell_type": "markdown",
      "metadata": {
        "id": "nQ0kP3f2RePW"
      },
      "source": [
        "### Example"
      ]
    },
    {
      "cell_type": "markdown",
      "source": [
        "We will work with the MAP kinase ERK2. This is the **receptor**. ERK2 participates in cellular signaling and is the targets for drug binding in [the study that produced the structure 3ERK.](https://www.rcsb.org/structure/3ERK) The **ligand** is the small molecule that bind to this kinase, specifically the SB4 compound (pyridinylimidazole analog) It is an inhibitor that target the ATP-binding site of the kinase to block its activity.\n",
        "\n",
        "When using GNINA to dock this ligands (SB) into the receptor (ERK2), the software helps to predict how well the ligand ligand fits into the binding site of the kinase. GNINA’s enhanced scoring functions, including deep learning-based approaches, are particularly useful in illustrating these binding interactions because it provides a more detailed and accurate prediction of binding poses compared to traditional methods. The docking results can reveal why SB4 is highly selective for ERK2 and how specific interactions between the ligand and the receptor lead to this selectivity."
      ],
      "metadata": {
        "id": "v89CpyMUKYx9"
      }
    },
    {
      "cell_type": "markdown",
      "source": [
        "The commands below are used to prepare the receptor structure from a Protein Data Bank (PDB) file for docking simulations:\n",
        "\n",
        "1. **Downloading the PDB File**:\n",
        "   - `!wget http://files.rcsb.org/download/3ERK.pdb`: This command downloads the PDB file for the protein structure (in this case, 3ERK) from the RCSB PDB database. This file contains detailed atomic coordinates for all the atoms in the protein and any ligands, water molecules, or other components present in the crystal structure.\n",
        "\n",
        "2. **Isolating the Receptor**:\n",
        "   - `!grep ATOM 3ERK.pdb > rec.pdb`: This command extracts only the lines that start with \"ATOM\" from the downloaded PDB file. The \"ATOM\" lines correspond to the protein atoms (the receptor), excluding any water molecules, ligands, or other non-protein components. This is important because only the protein part is needed for docking simulations.\n",
        "\n",
        "3. **Processing with OpenBabel (obabel)**:\n",
        "   - `!obabel rec.pdb -Orec.pdb`: OpenBabel (obabel) is used here to clean up the isolated receptor structure. It ensures that the PDB file is properly formatted, corrects any minor errors in atom positioning or missing information, and can optimize or adjust the file to be more suitable for further computational processes, such as preparing it for docking simulations with GNINA.\n"
      ],
      "metadata": {
        "id": "hLgoRoZ7Mrqx"
      }
    },
    {
      "cell_type": "code",
      "metadata": {
        "id": "5wUXrQyoKCls"
      },
      "source": [
        "!wget http://files.rcsb.org/download/3ERK.pdb"
      ],
      "execution_count": null,
      "outputs": []
    },
    {
      "cell_type": "code",
      "metadata": {
        "id": "VyKx3tD6Ke_M"
      },
      "source": [
        "!grep ATOM 3ERK.pdb > rec.pdb\n",
        "!obabel rec.pdb -Orec.pdb"
      ],
      "execution_count": null,
      "outputs": []
    },
    {
      "cell_type": "markdown",
      "source": [
        "Now we isolate the ligand."
      ],
      "metadata": {
        "id": "jpjDDVFuxFay"
      }
    },
    {
      "cell_type": "code",
      "metadata": {
        "id": "ScPGAtieKhSI"
      },
      "source": [
        "!grep SB4 3ERK.pdb > lig.pdb"
      ],
      "execution_count": null,
      "outputs": []
    },
    {
      "cell_type": "code",
      "source": [
        "/content/lig.pdb"
      ],
      "metadata": {
        "id": "Mi6cFeYK2DVV"
      },
      "execution_count": null,
      "outputs": []
    },
    {
      "cell_type": "code",
      "source": [],
      "metadata": {
        "id": "qLNA4GqG2O9l"
      },
      "execution_count": null,
      "outputs": []
    },
    {
      "cell_type": "code",
      "source": [
        "from google.colab import drive\n",
        "drive.mount('/content/drive')"
      ],
      "metadata": {
        "id": "iinoWXiL2Q1M"
      },
      "execution_count": null,
      "outputs": []
    },
    {
      "cell_type": "markdown",
      "source": [
        "With the Py3Dmol library to visualize a protein-ligand complex in 3D."
      ],
      "metadata": {
        "id": "2nbDJavGRrpy"
      }
    },
    {
      "cell_type": "code",
      "metadata": {
        "id": "PjISBUUqKkpf"
      },
      "source": [
        "import py3Dmol\n",
        "v = py3Dmol.view()\n",
        "v.addModel(open('rec.pdb').read())\n",
        "#v.setStyle({'cartoon':{},'stick':{'radius':0.15}})\n",
        "v.setStyle({'cartoon':{}})\n",
        "v.addModel(open('lig.pdb').read())\n",
        "v.setStyle({'model':1},{'stick':{'colorscheme':'greenCarbon'}})\n",
        "v.zoomTo({'model':1})"
      ],
      "execution_count": null,
      "outputs": []
    },
    {
      "cell_type": "markdown",
      "source": [
        "Next, we use OpenBabel to convert a SMILES string into a 2D molecular structure saved as an SDF file. SMILES (Simplified Molecular Input Line Entry System) is a way to represent the structure of a molecule using text, showing how atoms are connected, including rings and functional groups. In this command, the SMILES string represents a specific chemical compound, which OpenBabel processes to generate a clear 2D diagram of the molecule’s structure. This output is useful for visualization, analysis, and as input for computational chemistry tasks like docking simulations.\n",
        "\n",
        "Then, we visualise the ligand and generate an alternative conformer."
      ],
      "metadata": {
        "id": "gpW1aEDCQwWj"
      }
    },
    {
      "cell_type": "code",
      "metadata": {
        "id": "353AUMS_KqQW"
      },
      "source": [
        "!obabel -:'C1CNCCC1n1cnc(c2ccc(cc2)F)c1c1ccnc(n1)N' -Ol2.sdf --gen2D"
      ],
      "execution_count": null,
      "outputs": []
    },
    {
      "cell_type": "markdown",
      "source": [],
      "metadata": {
        "id": "WGz0ie9eQtTj"
      }
    },
    {
      "cell_type": "code",
      "metadata": {
        "id": "Faye1n_fN7SK"
      },
      "source": [
        "v = py3Dmol.view()\n",
        "v.addModel(open('l2.sdf').read())\n",
        "v.setStyle({'stick':{'colorscheme':'greenCarbon'}})\n",
        "v.zoomTo()"
      ],
      "execution_count": null,
      "outputs": []
    },
    {
      "cell_type": "code",
      "metadata": {
        "id": "OQlecrHbOgWn"
      },
      "source": [
        "!obabel -:'C1CNCCC1n1cnc(c2ccc(cc2)F)c1c1ccnc(n1)N' -Ol3.sdf --gen3D"
      ],
      "execution_count": null,
      "outputs": []
    },
    {
      "cell_type": "code",
      "metadata": {
        "id": "7DzqWcZn7U0A"
      },
      "source": [
        "v = py3Dmol.view()\n",
        "v.addModel(open('l3.sdf').read())\n",
        "v.setStyle({'stick':{'colorscheme':'greenCarbon'}})\n",
        "v.zoomTo()"
      ],
      "execution_count": null,
      "outputs": []
    },
    {
      "cell_type": "markdown",
      "metadata": {
        "id": "nmMR0sbTRktT"
      },
      "source": [
        "### Simple Docking"
      ]
    },
    {
      "cell_type": "markdown",
      "source": [
        "This GNINA command performs a molecular docking simulation where it predicts how a ligand binds to a receptor:\n",
        "\n",
        "- **`!./gnina`**: Runs the GNINA docking software from the current directory.\n",
        "- **`-r rec.pdb`**: Specifies the receptor file (`rec.pdb`), which contains the structure of the protein.\n",
        "- **`-l lig.pdb`**: Specifies the ligand file (`lig.pdb`), which contains the structure of the small molecule that will be docked to the receptor.\n",
        "- **`--autobox_ligand lig.pdb`**: Automatically defines the binding box around the ligand’s coordinates to focus the docking process on the relevant binding site.\n",
        "\n",
        "This command sets up and runs the docking, allowing GNINA to predict the most likely binding pose of the ligand within the receptor’s active site."
      ],
      "metadata": {
        "id": "Ri8S7ocHSWJy"
      }
    },
    {
      "cell_type": "code",
      "metadata": {
        "id": "VuG4YDZQ7XIf"
      },
      "source": [
        "!./gnina -r rec.pdb -l lig.pdb --autobox_ligand lig.pdb"
      ],
      "execution_count": null,
      "outputs": []
    },
    {
      "cell_type": "markdown",
      "source": [
        "GNINA is a molecular docking software that predicts how a small molecule (ligand) binds to a larger molecule (receptor), such as a protein. It combines traditional docking methods with deep learning to evaluate binding poses, providing not only predicted binding affinities but also additional scores generated by neural networks.\n",
        "\n",
        "#### What GNINA Did:\n",
        "GNINA performed a docking simulation using the receptor (`rec.pdb`) and ligand (`lig.pdb`) structures to predict how the ligand fits into the receptor’s binding site. It used autoboxing (`--autobox_ligand lig.pdb`) to automatically define the search area around the ligand, ensuring the docking focuses on the relevant binding site. For each predicted binding pose, GNINA evaluated the binding quality using traditional affinity scoring and deep learning-based scores, providing a comprehensive assessment of how well the ligand binds to the receptor.\n",
        "\n",
        "#### Interpreting the Output:\n",
        "- **Mode**: Each line corresponds to a different binding pose or conformation of the ligand within the receptor’s binding site. Modes are ranked by their predicted binding affinity.\n",
        "- **Affinity (kcal/mol)**: This value estimates the binding strength; lower (more negative) values indicate stronger binding. For example, the first mode has an affinity of -8.50 kcal/mol, which suggests a strong binding interaction.\n",
        "- **CNN Pose Score**: This is a score from GNINA’s convolutional neural network (CNN) model, indicating the quality of the predicted pose. A higher score (closer to 1) suggests that the pose is closer to the correct binding mode based on training data. The first mode has a high pose score of 0.8954, indicating a reliable pose.\n",
        "- **CNN Affinity**: This is the binding affinity predicted by the CNN model, providing another estimation of how well the ligand binds. While it’s not directly comparable to traditional affinity, it serves as an additional check on pose quality.\n",
        "\n",
        "\n",
        "The best binding pose is usually the one with the most negative affinity value and a high CNN pose score. In this output, the first pose (-8.50 kcal/mol, pose score 0.8954) is likely the most reliable prediction of how the ligand binds to the receptor, showing both strong binding and high confidence in the pose quality according to GNINA’s deep learning evaluation."
      ],
      "metadata": {
        "id": "QIBAP8reURo_"
      }
    },
    {
      "cell_type": "markdown",
      "source": [
        "In the following GNINA run the additional option --seed 0 has been introduced, and the output is saved to a file (-o docked.sdf.gz):\n",
        "\n",
        "* **`--seed 0`**: This sets the random seed to `0`, which makes the docking\n",
        "process deterministic. In other words, using the same seed will produce the same results every time the docking is run, which is useful for reproducibility when comparing results or debugging.\n",
        "\n",
        "* **`-o docked.sdf.gz`**: This option specifies the output file where the docking results will be saved. The file `docked.sdf.gz` will contain the predicted binding poses, scores, and detailed structural information of the docked ligand in a compressed format. This allows you to save and later analyze the docking results easily.\n",
        "\n",
        "These changes help ensure that the docking process is consistent and that the results are saved for further examination or use in other analyses."
      ],
      "metadata": {
        "id": "q92EipkJVWQB"
      }
    },
    {
      "cell_type": "code",
      "metadata": {
        "id": "BrgAAkFIEh5u"
      },
      "source": [
        "!./gnina -r rec.pdb -l lig.pdb --autobox_ligand lig.pdb --seed 0 -o docked.sdf.gz"
      ],
      "execution_count": null,
      "outputs": []
    },
    {
      "cell_type": "code",
      "metadata": {
        "id": "SOKVTi9eFEUx"
      },
      "source": [
        "!gunzip docked.sdf.gz #older openbabel has trouble with gzipped files"
      ],
      "execution_count": null,
      "outputs": []
    },
    {
      "cell_type": "markdown",
      "source": [
        "Here we use OpenBabel to calculate the root-mean-square deviation (RMSD) between the reference ligand structure (`lig.pdb`) and the first pose of the ligand in the docked results (`docked.sdf`). By using the `-firstonly` option, it compares only the top-ranked or first docked pose, providing a measure of how closely the predicted binding matches the original ligand structure. RMSD is a metric that quantifies the differences in positions between atoms of two structures; lower RMSD values indicate greater similarity, which suggests that the docking accurately predicts the binding pose of the ligand."
      ],
      "metadata": {
        "id": "4Uy7uklSWTXf"
      }
    },
    {
      "cell_type": "code",
      "source": [
        "!obrms"
      ],
      "metadata": {
        "id": "4yoRJ7dtX0_9"
      },
      "execution_count": null,
      "outputs": []
    },
    {
      "cell_type": "code",
      "metadata": {
        "id": "gOhHgXp4Ek1U"
      },
      "source": [
        "!obrms --firstonly lig.pdb docked.sdf"
      ],
      "execution_count": null,
      "outputs": []
    },
    {
      "cell_type": "markdown",
      "source": [
        "The output shows multiple RMSD values, each representing the comparison between the reference ligand (`lig.pdb`) and various poses in the docked results (`docked.sdf`). Although the `--firstonly` flag was used, it did not restrict the comparison to just the first pose; instead, RMSD was calculated for all poses. Lower RMSD values indicate that the docked pose closely matches the reference structure, suggesting accurate predictions. In contrast, higher RMSD values suggest significant deviations from the reference, indicating less accurate docking results for those specific poses."
      ],
      "metadata": {
        "id": "BO0l5lzvXzaJ"
      }
    },
    {
      "cell_type": "markdown",
      "source": [
        "We can inspect the poses in the receptor compared with the reference ligand."
      ],
      "metadata": {
        "id": "i5J1Dp_uZr1v"
      }
    },
    {
      "cell_type": "code",
      "metadata": {
        "id": "d7y8w1ncE0St",
        "collapsed": true
      },
      "source": [
        "import gzip\n",
        "v = py3Dmol.view()\n",
        "v.addModel(open('rec.pdb').read())\n",
        "v.setStyle({'cartoon':{},'stick':{'radius':.1}})\n",
        "v.addModel(open('lig.pdb').read())\n",
        "v.setStyle({'model':1},{'stick':{'colorscheme':'dimgrayCarbon','radius':.125}})\n",
        "v.addModelsAsFrames(open('docked.sdf','rt').read())\n",
        "v.setStyle({'model':2},{'stick':{'colorscheme':'greenCarbon'}})\n",
        "v.animate({'interval':1000})\n",
        "v.zoomTo({'model':1})\n",
        "v.rotate(90)"
      ],
      "execution_count": null,
      "outputs": []
    },
    {
      "cell_type": "markdown",
      "source": [
        "And we can show just one pose."
      ],
      "metadata": {
        "id": "EbWBTA5_Z4je"
      }
    },
    {
      "cell_type": "code",
      "source": [
        "import py3Dmol\n",
        "\n",
        "# Create the viewer\n",
        "v = py3Dmol.view()\n",
        "\n",
        "# Add the receptor model\n",
        "v.addModel(open('rec.pdb').read())\n",
        "v.setStyle({'cartoon': {}})\n",
        "\n",
        "# Add the reference ligand model and set its style\n",
        "v.addModel(open('lig.pdb').read())\n",
        "v.setStyle({'model': 1}, {'stick': {'colorscheme': 'dimgrayCarbon', 'radius': 0.125}})\n",
        "\n",
        "# Add all poses from the docked SDF file\n",
        "v.addModelsAsFrames(open('docked.sdf', 'rt').read())\n",
        "v.setStyle({'model': 2}, {'stick': {'colorscheme': 'greenCarbon'}})\n",
        "\n",
        "# Set the pose you want to display (change the index as needed, e.g., 0 for the first pose)\n",
        "v.setFrame(5)  # Replace 0 with the index of the desired pose\n",
        "\n",
        "# Optional: Animations and other viewing options\n",
        "v.zoomTo({'model': 1})\n",
        "v.rotate(90)\n",
        "\n",
        "# Display the viewer\n",
        "v.show()\n"
      ],
      "metadata": {
        "id": "UM4Y9YBwZCxA"
      },
      "execution_count": null,
      "outputs": []
    },
    {
      "cell_type": "markdown",
      "metadata": {
        "id": "Ho6t5tn_GRyv"
      },
      "source": [
        "## Exercise\n",
        "Run the necessary commands to dock `l3.sdf`, which is a generated conformer, instead of `lig.pdb` which is the crystal conformer."
      ]
    },
    {
      "cell_type": "code",
      "metadata": {
        "id": "lyyNaz3gE_jc"
      },
      "source": [
        "!./gnina"
      ],
      "execution_count": null,
      "outputs": []
    },
    {
      "cell_type": "markdown",
      "metadata": {
        "id": "Ub6H8i7AG025"
      },
      "source": [
        "Evaluate RMSD of docked poses to crystal."
      ]
    },
    {
      "cell_type": "code",
      "metadata": {
        "id": "PeBHGmyMGfIi"
      },
      "source": [
        "!obrms"
      ],
      "execution_count": null,
      "outputs": []
    },
    {
      "cell_type": "markdown",
      "source": [
        "Visualise the first docked pose."
      ],
      "metadata": {
        "id": "HyI7dwoNeYzU"
      }
    },
    {
      "cell_type": "code",
      "source": [
        "v = py3Dmol.view()"
      ],
      "metadata": {
        "id": "CiXLzN-nee9G"
      },
      "execution_count": null,
      "outputs": []
    },
    {
      "cell_type": "markdown",
      "source": [
        "# Extra stuff"
      ],
      "metadata": {
        "id": "XF8NCEP-a9sX"
      }
    },
    {
      "cell_type": "markdown",
      "metadata": {
        "id": "vnBtZrrHMAof"
      },
      "source": [
        "###Timing"
      ]
    },
    {
      "cell_type": "code",
      "metadata": {
        "id": "ML6DZyabG8A0"
      },
      "source": [
        "%%time\n",
        "!./gnina -r rec.pdb -l lig.pdb --autobox_ligand lig.pdb --seed 0 --exhaustiveness 1 > /dev/null 2>&1"
      ],
      "execution_count": null,
      "outputs": []
    },
    {
      "cell_type": "code",
      "metadata": {
        "id": "AmAF1SJLL-Ju"
      },
      "source": [
        "%%time\n",
        "!./gnina -r rec.pdb -l lig.pdb --autobox_ligand lig.pdb --seed 0 --exhaustiveness 4 > /dev/null 2>&1"
      ],
      "execution_count": null,
      "outputs": []
    },
    {
      "cell_type": "code",
      "metadata": {
        "id": "pgvtd2W6MIRM"
      },
      "source": [
        "%%time\n",
        "!./gnina -r rec.pdb -l lig.pdb --autobox_ligand lig.pdb --seed 0 --exhaustiveness 4 --cpu 1 > /dev/null 2>&1"
      ],
      "execution_count": null,
      "outputs": []
    },
    {
      "cell_type": "code",
      "metadata": {
        "id": "utLd1N-vMOU6"
      },
      "source": [
        "!cat /proc/cpuinfo"
      ],
      "execution_count": null,
      "outputs": []
    },
    {
      "cell_type": "markdown",
      "metadata": {
        "id": "HiMDn-MlMsLT"
      },
      "source": [
        "### Scoring"
      ]
    },
    {
      "cell_type": "code",
      "metadata": {
        "id": "mL8ttmo7MiYO"
      },
      "source": [
        "!./gnina --score_only -r rec.pdb -l lig.pdb --verbosity=2"
      ],
      "execution_count": null,
      "outputs": []
    },
    {
      "cell_type": "code",
      "metadata": {
        "id": "pjzHUmQxMvuo"
      },
      "source": [
        "!./gnina --help | grep scoring | head -3"
      ],
      "execution_count": null,
      "outputs": []
    },
    {
      "cell_type": "code",
      "metadata": {
        "id": "fLQS6uGzMzp2"
      },
      "source": [
        "!./gnina --print_terms"
      ],
      "execution_count": null,
      "outputs": []
    },
    {
      "cell_type": "code",
      "metadata": {
        "id": "qcqJMzz9M7fP"
      },
      "source": [
        "open('everything.txt','wt').write('''\n",
        "1.0  ad4_solvation(d-sigma=3.6,_s/q=0.01097,_c=8)  desolvation, s/q is charge dependence\n",
        "1.0  ad4_solvation(d-sigma=3.6,_s/q=0.0,_c=8)\n",
        "1.0  electrostatic(i=1,_^=100,_c=8)\ti is the exponent of the distance, see everything.h for details\n",
        "1.0  electrostatic(i=2,_^=100,_c=8)\n",
        "1.0  gauss(o=0,_w=0.5,_c=8)\t\to is offset, w is width of gaussian\n",
        "1.0  gauss(o=3,_w=2,_c=8)\n",
        "1.0  repulsion(o=0,_c=8)\to is offset of squared distance repulsion\n",
        "1.0  hydrophobic(g=0.5,_b=1.5,_c=8)\t\tg is a good distance, b the bad distance\n",
        "1.0  non_hydrophobic(g=0.5,_b=1.5,_c=8)\tvalue is linearly interpolated between g and b\n",
        "1.0  vdw(i=4,_j=8,_s=0,_^=100,_c=8)\ti and j are LJ exponents\n",
        "1.0  vdw(i=6,_j=12,_s=1,_^=100,_c=8) s is the smoothing, ^ is the cap\n",
        "1.0  non_dir_h_bond(g=-0.7,_b=0,_c=8)\tgood and bad\n",
        "1.0  non_dir_anti_h_bond_quadratic(o=0.4,_c=8) like repulsion, but for hbond, don't use\n",
        "1.0  non_dir_h_bond_lj(o=-0.7,_^=100,_c=8)\tLJ 10-12 potential, capped at ^\n",
        "1.0 acceptor_acceptor_quadratic(o=0,_c=8)\tquadratic potential between hydrogen bond acceptors\n",
        "1.0 donor_donor_quadratic(o=0,_c=8)\tquadratic potential between hydroben bond donors\n",
        "1.0  num_tors_div\tdiv constant terms are not linearly independent\n",
        "1.0  num_heavy_atoms_div\n",
        "1.0  num_heavy_atoms\tthese terms are just added\n",
        "1.0  num_tors_add\n",
        "1.0  num_tors_sqr\n",
        "1.0  num_tors_sqrt\n",
        "1.0  num_hydrophobic_atoms\n",
        "1.0  ligand_length\n",
        "''');"
      ],
      "execution_count": null,
      "outputs": []
    },
    {
      "cell_type": "code",
      "metadata": {
        "id": "6SgwFBMzNFgo"
      },
      "source": [
        "!./gnina -r rec.pdb -l lig.pdb --score_only --custom_scoring everything.txt"
      ],
      "execution_count": null,
      "outputs": []
    },
    {
      "cell_type": "markdown",
      "metadata": {
        "id": "PAPiiaPXNLbI"
      },
      "source": [
        "### CNN Scoring"
      ]
    },
    {
      "cell_type": "code",
      "metadata": {
        "id": "ObN0CEI6NHKQ"
      },
      "source": [
        "!./gnina --help | grep \"cnn arg\" -A 12"
      ],
      "execution_count": null,
      "outputs": []
    },
    {
      "cell_type": "code",
      "metadata": {
        "id": "Yizf6AAnNQ5D"
      },
      "source": [
        "!./gnina --score_only -r rec.pdb -l lig.pdb  | grep CNN"
      ],
      "execution_count": null,
      "outputs": []
    },
    {
      "cell_type": "code",
      "metadata": {
        "id": "c7DWIP3aNSdB"
      },
      "source": [
        "%%time\n",
        "!./gnina -r rec.pdb -l lig.pdb --autobox_ligand lig.pdb --seed 0  > /dev/null 2>&1"
      ],
      "execution_count": null,
      "outputs": []
    },
    {
      "cell_type": "code",
      "metadata": {
        "id": "vTuvFbX5NWfm"
      },
      "source": [
        "%%time\n",
        "!CUDA_VISIBLE_DEVICES= ./gnina -r rec.pdb -l lig.pdb --autobox_ligand lig.pdb --seed 0"
      ],
      "execution_count": null,
      "outputs": []
    },
    {
      "cell_type": "markdown",
      "metadata": {
        "id": "zK6aigYPNfGK"
      },
      "source": [
        "### Whole Protein Docking"
      ]
    },
    {
      "cell_type": "code",
      "metadata": {
        "id": "duG2Ny1gNbpf"
      },
      "source": [
        "!./gnina -r rec.pdb -l lig.pdb --autobox_ligand rec.pdb -o wdocking.sdf.gz --seed 0"
      ],
      "execution_count": null,
      "outputs": []
    },
    {
      "cell_type": "code",
      "metadata": {
        "id": "EElgbxo6NkIs"
      },
      "source": [
        "v = py3Dmol.view(height=400)\n",
        "v.addModel(open('rec.pdb').read())\n",
        "v.setStyle({'cartoon':{},'stick':{'radius':.1}})\n",
        "v.addModel(open('lig.pdb').read())\n",
        "v.setStyle({'model':1},{'stick':{'colorscheme':'dimgrayCarbon','radius':.125}})\n",
        "v.addModelsAsFrames(gzip.open('wdocking.sdf.gz','rt').read())\n",
        "v.setStyle({'model':2},{'stick':{'colorscheme':'greenCarbon'}})\n",
        "v.animate({'interval':1000}); v.zoomTo(); v.rotate(90)"
      ],
      "execution_count": null,
      "outputs": []
    },
    {
      "cell_type": "markdown",
      "metadata": {
        "id": "oik4qs3TOj00"
      },
      "source": [
        "### Flexible Docking"
      ]
    },
    {
      "cell_type": "code",
      "metadata": {
        "id": "UKn-Vu6nN4nz"
      },
      "source": [
        "!wget http://files.rcsb.org/download/4ERK.pdb"
      ],
      "execution_count": null,
      "outputs": []
    },
    {
      "cell_type": "code",
      "metadata": {
        "id": "oxlY70baO5Sp"
      },
      "source": [
        "!grep ATOM 4ERK.pdb > rec2.pdb\n",
        "!obabel rec2.pdb -Orec2.pdb"
      ],
      "execution_count": null,
      "outputs": []
    },
    {
      "cell_type": "code",
      "metadata": {
        "id": "BlWuX33qO6vX"
      },
      "source": [
        "!grep OLO 4ERK.pdb > lig2.pdb"
      ],
      "execution_count": null,
      "outputs": []
    },
    {
      "cell_type": "code",
      "metadata": {
        "id": "QB8oM_p8O836"
      },
      "source": [
        "!./gnina -r rec2.pdb -l lig.pdb --autobox_ligand lig2.pdb --seed 0 -o 3erk_to_4erk.sdf"
      ],
      "execution_count": null,
      "outputs": []
    },
    {
      "cell_type": "code",
      "metadata": {
        "id": "atbgzXQHO-Se"
      },
      "source": [
        "!obrms -firstonly lig.pdb 3erk_to_4erk.sdf"
      ],
      "execution_count": null,
      "outputs": []
    },
    {
      "cell_type": "code",
      "metadata": {
        "id": "_Cbn6hQpPRmg"
      },
      "source": [
        "!./gnina -r rec2.pdb -l lig.pdb --autobox_ligand lig2.pdb --seed 0 -o flexdocked.sdf --flexdist 4 --flexdist_ligand lig2.pdb --out_flex flexout.pdb"
      ],
      "execution_count": null,
      "outputs": []
    },
    {
      "cell_type": "code",
      "metadata": {
        "id": "5ZWLPSucSExv"
      },
      "source": [
        "!obrms -firstonly lig.pdb flexdocked.sdf"
      ],
      "execution_count": null,
      "outputs": []
    },
    {
      "cell_type": "code",
      "metadata": {
        "id": "CYe8hTawSNxa"
      },
      "source": [
        "!./gnina -r rec2.pdb -l lig.pdb --autobox_ligand lig2.pdb --seed 0 -o flexdocked2.sdf --exhaustiveness 16 --flexres A:52,A:103 --out_flex flexout2.pdb"
      ],
      "execution_count": null,
      "outputs": []
    },
    {
      "cell_type": "markdown",
      "metadata": {
        "id": "K49K1WyRbBKp"
      },
      "source": [
        "###Virtual Screening"
      ]
    },
    {
      "cell_type": "code",
      "metadata": {
        "id": "_hEeNFO9SpJl"
      },
      "source": [
        "!wget http://files.rcsb.org/download/4PPS.pdb"
      ],
      "execution_count": null,
      "outputs": []
    },
    {
      "cell_type": "code",
      "metadata": {
        "id": "5xmCNROKbGiu"
      },
      "source": [
        "!grep ^ATOM 4PPS.pdb > errec.pdb"
      ],
      "execution_count": null,
      "outputs": []
    },
    {
      "cell_type": "code",
      "metadata": {
        "id": "TcaTLJ5obg_H"
      },
      "source": [
        "!wget http://bits.csb.pitt.edu/files/workshop_minimized_results.sdf.gz"
      ],
      "execution_count": null,
      "outputs": []
    },
    {
      "cell_type": "code",
      "metadata": {
        "id": "kecn2uqFbH2N"
      },
      "source": [
        "!./gnina -r errec.pdb -l workshop_minimized_results.sdf.gz --minimize -o gnina_scored.sdf.gz --scoring vinardo"
      ],
      "execution_count": null,
      "outputs": []
    },
    {
      "cell_type": "code",
      "metadata": {
        "id": "_LcxM-dDbKsh"
      },
      "source": [
        "from openbabel import pybel\n",
        "import pandas as pd\n",
        "\n",
        "scores = []\n",
        "for mol in pybel.readfile('sdf','gnina_scored.sdf.gz'):\n",
        "    scores.append({'title': mol.title,\n",
        "                   'CNNscore': float(mol.data['CNNscore']),\n",
        "                   'CNNaffinity': float(mol.data['CNNaffinity']),\n",
        "                   'Vinardo': float(mol.data['minimizedAffinity'])})\n",
        "scores = pd.DataFrame(scores)\n",
        "scores['label'] = scores.title.str.contains('active')\n",
        "\n",
        "scores"
      ],
      "execution_count": null,
      "outputs": []
    },
    {
      "cell_type": "code",
      "metadata": {
        "id": "2h0DHkeeb5OL"
      },
      "source": [
        "from sklearn.metrics import roc_auc_score, roc_curve, auc\n",
        "import matplotlib.pyplot as plt\n",
        "%matplotlib inline"
      ],
      "execution_count": null,
      "outputs": []
    },
    {
      "cell_type": "code",
      "metadata": {
        "id": "nJ0w97M2g6ul"
      },
      "source": [
        "plt.figure(dpi=150)\n",
        "plt.plot([0,1],[0,1],'k--',alpha=0.5,linewidth=1)\n",
        "fpr,tpr,_ = roc_curve(scores.label,-scores.Vinardo)\n",
        "plt.plot(fpr,tpr,label=\"Vinardo (AUC = %.2f)\"%auc(fpr,tpr))\n",
        "fpr,tpr,_ = roc_curve(scores.label,scores.CNNaffinity)\n",
        "plt.plot(fpr,tpr,label=\"CNNaffinity (AUC = %.2f)\"%auc(fpr,tpr))\n",
        "fpr,tpr,_ = roc_curve(scores.label, scores.CNNaffinity.rank() + (-scores.Vinardo).rank())\n",
        "plt.plot(fpr,tpr,label=\"Consensus (AUC = %.2f)\"%auc(fpr,tpr))\n",
        "plt.legend(loc='lower right')\n",
        "plt.xlabel('False Positive Rate')\n",
        "plt.ylabel('True Positive Rate')\n",
        "plt.gca().set_aspect('equal')"
      ],
      "execution_count": null,
      "outputs": []
    },
    {
      "cell_type": "markdown",
      "metadata": {
        "id": "Q53Z8bxIiXlI"
      },
      "source": [
        "### Custom Scoring"
      ]
    },
    {
      "cell_type": "code",
      "metadata": {
        "id": "Ux-swSoLiVwD"
      },
      "source": [
        "!./gnina -r errec.pdb -l workshop_minimized_results.sdf.gz --score_only --custom_scoring everything.txt > scores.txt 2>&1"
      ],
      "execution_count": null,
      "outputs": []
    },
    {
      "cell_type": "code",
      "metadata": {
        "id": "fOQKdbEyiayO"
      },
      "source": [
        "!head -30 scores.txt"
      ],
      "execution_count": null,
      "outputs": []
    },
    {
      "cell_type": "code",
      "metadata": {
        "id": "ZneO_qlmicW0"
      },
      "source": [
        "import subprocess, io, re\n",
        "terms = pd.read_csv(io.BytesIO(subprocess.check_output(\"grep \\#\\# scores.txt | sed 's/## //'\",shell=True)),delim_whitespace=True)\n",
        "terms[['CNNscore','CNNaffinity','CNNvariance']] = re.findall(r'CNNscore: (\\S+)\\s*CNNaffinity: (\\S+)\\s*CNNvariance: (\\S+)',open('scores.txt').read())\n",
        "terms['label'] = terms.Name.str.contains('active')"
      ],
      "execution_count": null,
      "outputs": []
    },
    {
      "cell_type": "code",
      "metadata": {
        "id": "vXSD-Rg2ihL1"
      },
      "source": [
        "import sklearn\n",
        "from sklearn.linear_model import *\n",
        "\n",
        "X = terms.drop(['Name','label'],axis=1).astype(float) # features\n",
        "Y = terms.label"
      ],
      "execution_count": null,
      "outputs": []
    },
    {
      "cell_type": "code",
      "metadata": {
        "id": "-m9rJN2KikPf"
      },
      "source": [
        "X"
      ],
      "execution_count": null,
      "outputs": []
    },
    {
      "cell_type": "code",
      "metadata": {
        "id": "TWgWg0u8ilif"
      },
      "source": [
        "model = LogisticRegression(solver='liblinear')\n",
        "cvpredict = sklearn.model_selection.cross_val_predict(model, X, Y, method='predict_proba')\n",
        "fpr,tpr,_ = roc_curve(Y,cvpredict[:,1])\n",
        "fig,ax = plt.subplots(1,1,dpi=100)\n",
        "ax.plot(fpr,tpr,label=\"Combined CV ROC (AUC=%.2f)\"%auc(fpr,tpr))\n",
        "plt.xlabel('False Positive Rate')\n",
        "plt.ylabel('True Positive Rate')\n",
        "plt.legend()\n",
        "ax.set_aspect('equal');"
      ],
      "execution_count": null,
      "outputs": []
    },
    {
      "cell_type": "code",
      "metadata": {
        "id": "roP156aoinz9"
      },
      "source": [],
      "execution_count": null,
      "outputs": []
    }
  ]
}