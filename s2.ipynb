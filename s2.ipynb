{
  "nbformat": 4,
  "nbformat_minor": 0,
  "metadata": {
    "colab": {
      "provenance": [],
      "authorship_tag": "ABX9TyNXUJEQ2kIU80mUb8iEvdJi",
      "include_colab_link": true
    },
    "kernelspec": {
      "name": "python3",
      "display_name": "Python 3"
    },
    "language_info": {
      "name": "python"
    }
  },
  "cells": [
    {
      "cell_type": "markdown",
      "metadata": {
        "id": "view-in-github",
        "colab_type": "text"
      },
      "source": [
        "<a href=\"https://colab.research.google.com/github/amoyag/Bioquimica_Farmacologica/blob/main/s2.ipynb\" target=\"_parent\"><img src=\"https://colab.research.google.com/assets/colab-badge.svg\" alt=\"Open In Colab\"/></a>"
      ]
    },
    {
      "cell_type": "markdown",
      "source": [
        "## Select our ligand"
      ],
      "metadata": {
        "id": "zFbKsOij0SSv"
      }
    },
    {
      "cell_type": "markdown",
      "source": [
        "### ~~Tacrine~~ Donepezil (control)\n",
        "Everybody needs this. This extracts the ligand we will use as reference to define the box for the docking simulation."
      ],
      "metadata": {
        "id": "PtOlNZNPzAGl"
      }
    },
    {
      "cell_type": "code",
      "source": [
        "# download the complex tcAChE-donepezil\n",
        "!wget http://files.rcsb.org/download/1EVE.pdb\n",
        "\n",
        "# isolate the ligand\n",
        "!grep E20 1EVE.pdb > lig.pdb"
      ],
      "metadata": {
        "id": "2k1BAEZHy_J7"
      },
      "execution_count": null,
      "outputs": []
    },
    {
      "cell_type": "markdown",
      "source": [
        "### Galanthamine"
      ],
      "metadata": {
        "id": "evoBlJt_zpVE"
      }
    },
    {
      "cell_type": "code",
      "source": [
        "# Use the SMILES for galanthamine to build the molecule\n",
        "# https://www.ebi.ac.uk/chembl/web_components/explore/compound/CHEMBL659\n",
        "\n",
        "import subprocess\n",
        "\n",
        "# Get the canonical SMILES using Open Babel\n",
        "result = subprocess.run(\n",
        "    ['obabel', '-:COc1ccc2c3c1O[C@H]1C[C@@H](O)C=C[C@@]31CCN(C)C2', '-osmi', '--canonical'],\n",
        "    capture_output=True,\n",
        "    text=True\n",
        ")\n",
        "\n",
        "# Store the canonical SMILES in a variable\n",
        "smiles_canon = result.stdout.strip()\n",
        "\n",
        "# Use Open Babel to generate the SDF file from the canonical SMILES\n",
        "subprocess.run(['obabel', f'-:{smiles_canon}', '-O', 'gal.sdf', '--gen3d'])\n",
        "\n"
      ],
      "metadata": {
        "id": "DA57lz4QzsoE"
      },
      "execution_count": null,
      "outputs": []
    },
    {
      "cell_type": "markdown",
      "source": [
        "### Rivastgimine"
      ],
      "metadata": {
        "id": "sL3RRw6cz0v5"
      }
    },
    {
      "cell_type": "code",
      "source": [
        "# Use the SMILES for rivastigmine to build the molecule\n",
        "# https://www.ebi.ac.uk/chembl/web_components/explore/compound/CHEMBL636\n",
        "\n",
        "import subprocess\n",
        "\n",
        "# Get the canonical SMILES using Open Babel\n",
        "result = subprocess.run(\n",
        "    ['obabel', '-:CCN(C)C(=O)Oc1cccc([C@H](C)N(C)C)c1', '-osmi', '--canonical'],\n",
        "    capture_output=True,\n",
        "    text=True\n",
        ")\n",
        "\n",
        "# Store the canonical SMILES in a variable\n",
        "smiles_canon = result.stdout.strip()\n",
        "\n",
        "# Use Open Babel to generate the SDF file from the canonical SMILES\n",
        "subprocess.run(['obabel', f'-:{smiles_canon}', '-O', 'riv.sdf', '--gen3d'])"
      ],
      "metadata": {
        "id": "0Lqyw4pQz6lW"
      },
      "execution_count": null,
      "outputs": []
    },
    {
      "cell_type": "markdown",
      "source": [
        "### Donepezil"
      ],
      "metadata": {
        "id": "FfrUdpJoz9Mo"
      }
    },
    {
      "cell_type": "code",
      "source": [
        "# Use the SMILES for donepezil to build the molecule\n",
        "# https://www.ebi.ac.uk/chembl/web_components/explore/compound/CHEMBL502\n",
        "\n",
        "import subprocess\n",
        "\n",
        "# Get the canonical SMILES using Open Babel\n",
        "result = subprocess.run(\n",
        "    ['obabel', '-:COc1cc2c(cc1OC)C(=O)C(CC1CCN(Cc3ccccc3)CC1)C2', '-osmi', '--canonical'],\n",
        "    capture_output=True,\n",
        "    text=True\n",
        ")\n",
        "\n",
        "# Store the canonical SMILES in a variable\n",
        "smiles_canon = result.stdout.strip()\n",
        "\n",
        "# Use Open Babel to generate the SDF file from the canonical SMILES\n",
        "subprocess.run(['obabel', f'-:{smiles_canon}', '-O', 'don.sdf', '--gen3d'])"
      ],
      "metadata": {
        "id": "0lqJZt-70BJ5"
      },
      "execution_count": null,
      "outputs": []
    },
    {
      "cell_type": "markdown",
      "source": [
        "### Neostigmine"
      ],
      "metadata": {
        "id": "oOdpmDR90E3a"
      }
    },
    {
      "cell_type": "code",
      "source": [
        "# Use the SMILES for neostigmine to build the molecule\n",
        "# https://www.ebi.ac.uk/chembl/web_components/explore/compound/CHEMBL278020\n",
        "\n",
        "import subprocess\n",
        "\n",
        "# Get the canonical SMILES using Open Babel\n",
        "result = subprocess.run(\n",
        "    ['obabel', '-:CN(C)C(=O)Oc1cccc([N+](C)(C)C)c1', '-osmi', '--canonical'],\n",
        "    capture_output=True,\n",
        "    text=True\n",
        ")\n",
        "\n",
        "# Store the canonical SMILES in a variable\n",
        "smiles_canon = result.stdout.strip()\n",
        "\n",
        "# Use Open Babel to generate the SDF file from the canonical SMILES\n",
        "subprocess.run(['obabel', f'-:{smiles_canon}', '-O', 'neo.sdf', '--gen3d'])"
      ],
      "metadata": {
        "id": "LPoGIQnH0LII"
      },
      "execution_count": null,
      "outputs": []
    },
    {
      "cell_type": "markdown",
      "source": [
        "## Preview your ligand"
      ],
      "metadata": {
        "id": "UZsIKMya0ZUw"
      }
    },
    {
      "cell_type": "code",
      "source": [
        "!pip install py3Dmol\n",
        "import py3Dmol\n",
        "v = py3Dmol.view()\n",
        "v.addModel(open('neo.sdf').read()) # put your SDF file here\n",
        "v.setStyle({'stick':{'colorscheme':'greenCarbon'}})\n",
        "v.zoomTo()"
      ],
      "metadata": {
        "id": "gjBABmMb0bqO"
      },
      "execution_count": null,
      "outputs": []
    }
  ]
}